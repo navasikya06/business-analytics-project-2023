{
 "cells": [
  {
   "cell_type": "code",
   "execution_count": 1,
   "metadata": {
    "execution": {
     "iopub.execute_input": "2021-05-24T11:52:52.03577Z",
     "iopub.status.busy": "2021-05-24T11:52:52.035412Z",
     "iopub.status.idle": "2021-05-24T11:53:42.154232Z",
     "shell.execute_reply": "2021-05-24T11:53:42.15177Z",
     "shell.execute_reply.started": "2021-05-24T11:52:52.035746Z"
    }
   },
   "outputs": [
    {
     "name": "stderr",
     "output_type": "stream",
     "text": [
      "'wget' is not recognized as an internal or external command,\n",
      "operable program or batch file.\n"
     ]
    }
   ],
   "source": [
    "!wget http://setup.johnsnowlabs.com/kaggle.sh -O - | bash"
   ]
  },
  {
   "cell_type": "code",
   "execution_count": null,
   "metadata": {
    "execution": {
     "iopub.execute_input": "2021-05-24T11:53:42.159366Z",
     "iopub.status.busy": "2021-05-24T11:53:42.159071Z",
     "iopub.status.idle": "2021-05-24T11:53:43.554579Z",
     "shell.execute_reply": "2021-05-24T11:53:43.553494Z",
     "shell.execute_reply.started": "2021-05-24T11:53:42.159333Z"
    }
   },
   "outputs": [],
   "source": [
    "import csv\n",
    "import numpy as np\n",
    "import pandas as pd\n",
    "import matplotlib.pyplot as plt  \n",
    "\n",
    "import sparknlp\n",
    "from sparknlp.annotator import *\n",
    "from sparknlp.common import *\n",
    "from sparknlp.base import *\n",
    "\n",
    "from pyspark.ml import Pipeline\n",
    "\n",
    "from sklearn.preprocessing import MultiLabelBinarizer\n",
    "from sklearn.metrics import classification_report\n",
    "from sklearn.metrics import f1_score\n",
    "from sklearn.metrics import roc_auc_score"
   ]
  },
  {
   "cell_type": "code",
   "execution_count": null,
   "metadata": {
    "execution": {
     "iopub.execute_input": "2021-05-24T11:53:43.558995Z",
     "iopub.status.busy": "2021-05-24T11:53:43.558701Z",
     "iopub.status.idle": "2021-05-24T11:53:43.564382Z",
     "shell.execute_reply": "2021-05-24T11:53:43.563737Z",
     "shell.execute_reply.started": "2021-05-24T11:53:43.558967Z"
    }
   },
   "outputs": [],
   "source": [
    "RANDOM_SEED = 42\n",
    "CLASSIFIER_THRESHOLD = 0.4\n",
    "\n",
    "np.random.seed(RANDOM_SEED)"
   ]
  },
  {
   "cell_type": "code",
   "execution_count": null,
   "metadata": {
    "execution": {
     "iopub.execute_input": "2021-05-24T11:53:43.567092Z",
     "iopub.status.busy": "2021-05-24T11:53:43.5667Z",
     "iopub.status.idle": "2021-05-24T11:53:43.586351Z",
     "shell.execute_reply": "2021-05-24T11:53:43.584958Z",
     "shell.execute_reply.started": "2021-05-24T11:53:43.567059Z"
    }
   },
   "outputs": [],
   "source": [
    "class_map = {\n",
    "    0: \"optimistic\",\n",
    "    1: \"thankful\",\n",
    "    2: \"empathetic\",\n",
    "    3: \"pessimistic\",\n",
    "    4: \"anxious\",\n",
    "    5: \"sad\",\n",
    "    6: \"annoyed\",\n",
    "    7: \"denial\",\n",
    "    8: \"surprise\",\n",
    "    9: \"official_report\",\n",
    "    10: \"joking\"\n",
    "}\n",
    "\n",
    "inv_class_map = {\n",
    "    \"optimistic\": 0,\n",
    "    \"thankful\": 1,\n",
    "    \"empathetic\": 2,\n",
    "    \"pessimistic\": 3,\n",
    "    \"anxious\": 4,\n",
    "    \"sad\": 5,\n",
    "    \"annoyed\": 6,\n",
    "    \"denial\": 7,\n",
    "    \"surprise\": 8,\n",
    "    \"official_report\": 9,\n",
    "    \"joking\": 10\n",
    "}"
   ]
  },
  {
   "cell_type": "code",
   "execution_count": null,
   "metadata": {
    "execution": {
     "iopub.execute_input": "2021-05-24T11:53:43.591116Z",
     "iopub.status.busy": "2021-05-24T11:53:43.590489Z",
     "iopub.status.idle": "2021-05-24T11:54:26.714878Z",
     "shell.execute_reply": "2021-05-24T11:54:26.714127Z",
     "shell.execute_reply.started": "2021-05-24T11:53:43.591082Z"
    }
   },
   "outputs": [],
   "source": [
    "spark = sparknlp.start(gpu=False)\n",
    "print(\"Spark NLP version: \", sparknlp.version())"
   ]
  },
  {
   "cell_type": "code",
   "execution_count": null,
   "metadata": {
    "execution": {
     "iopub.execute_input": "2021-05-24T11:58:34.576662Z",
     "iopub.status.busy": "2021-05-24T11:58:34.576327Z",
     "iopub.status.idle": "2021-05-24T11:58:34.699576Z",
     "shell.execute_reply": "2021-05-24T11:58:34.69857Z",
     "shell.execute_reply.started": "2021-05-24T11:58:34.576632Z"
    }
   },
   "outputs": [],
   "source": [
    "records = []\n",
    "with open('/kaggle/input/sentiment-analysis-of-covid-19-related-tweets/training.csv') as csv_file:\n",
    "    csv_reader = csv.reader(csv_file, delimiter=',')\n",
    "    line_count = 0\n",
    "    for row in csv_reader:\n",
    "        if line_count == 0:\n",
    "            print(f'Column names are {\", \".join(row)}')\n",
    "            line_count += 1\n",
    "        else:\n",
    "            current_classes = []\n",
    "            classes = list(map(int, row[2].split(\" \")))\n",
    "            for i in range(0, 11):\n",
    "                if i in classes:\n",
    "                    current_classes.append(class_map[i])\n",
    "\n",
    "            records.append((row[0], row[1], current_classes))\n",
    "            line_count += 1\n",
    "\n",
    "    print(f'Processed {line_count} lines.')\n",
    "\n",
    "df = pd.DataFrame.from_records(records, columns=[\"id\", \"text\", \"labels\"])\n",
    "\n",
    "#trainDataset, testDataset = spark.read.parquet(\"training_sparknlp.parquet\").randomSplit([0.9, 0.1], seed=RANDOM_SEED)\n",
    "trainDataset, testDataset = spark.createDataFrame(df).randomSplit([0.9, 0.1], seed=RANDOM_SEED)\n",
    "\n",
    "#df.to_parquet(\"training_sparknlp.parquet\", compression=\"gzip\")\n",
    "df.info()"
   ]
  },
  {
   "cell_type": "code",
   "execution_count": null,
   "metadata": {
    "execution": {
     "iopub.execute_input": "2021-05-24T09:21:02.328385Z",
     "iopub.status.busy": "2021-05-24T09:21:02.328052Z",
     "iopub.status.idle": "2021-05-24T09:21:05.142115Z",
     "shell.execute_reply": "2021-05-24T09:21:05.141059Z",
     "shell.execute_reply.started": "2021-05-24T09:21:02.328354Z"
    }
   },
   "outputs": [],
   "source": [
    "trainDataset.show(2)"
   ]
  },
  {
   "cell_type": "code",
   "execution_count": null,
   "metadata": {
    "execution": {
     "iopub.execute_input": "2021-05-24T09:21:05.144149Z",
     "iopub.status.busy": "2021-05-24T09:21:05.143751Z",
     "iopub.status.idle": "2021-05-24T09:21:06.927105Z",
     "shell.execute_reply": "2021-05-24T09:21:06.925963Z",
     "shell.execute_reply.started": "2021-05-24T09:21:05.144109Z"
    }
   },
   "outputs": [],
   "source": [
    "print(\"Train dataset: \", trainDataset.cache().count())\n",
    "print(\"Test dataset: \", testDataset.cache().count())"
   ]
  },
  {
   "cell_type": "code",
   "execution_count": null,
   "metadata": {
    "execution": {
     "iopub.execute_input": "2021-05-24T11:55:42.283297Z",
     "iopub.status.busy": "2021-05-24T11:55:42.283035Z",
     "iopub.status.idle": "2021-05-24T11:55:42.307716Z",
     "shell.execute_reply": "2021-05-24T11:55:42.307222Z",
     "shell.execute_reply.started": "2021-05-24T11:55:42.28327Z"
    }
   },
   "outputs": [],
   "source": [
    "%%time\n",
    "document = DocumentAssembler()\\\n",
    "    .setInputCol(\"text\")\\\n",
    "    .setOutputCol(\"document\")"
   ]
  },
  {
   "cell_type": "code",
   "execution_count": null,
   "metadata": {
    "execution": {
     "iopub.execute_input": "2021-05-24T11:55:42.944893Z",
     "iopub.status.busy": "2021-05-24T11:55:42.94451Z",
     "iopub.status.idle": "2021-05-24T11:57:18.093773Z",
     "shell.execute_reply": "2021-05-24T11:57:18.092863Z",
     "shell.execute_reply.started": "2021-05-24T11:55:42.944869Z"
    }
   },
   "outputs": [],
   "source": [
    "%%time\n",
    "sentence_embeddings = BertSentenceEmbeddings.pretrained(\"sent_covidbert_large_uncased\", \"en\") \\\n",
    "    .setInputCols(\"document\") \\\n",
    "    .setOutputCol(\"sentence_embeddings\")"
   ]
  },
  {
   "cell_type": "code",
   "execution_count": null,
   "metadata": {},
   "outputs": [],
   "source": [
    "%%time\n",
    "multiClassifier = MultiClassifierDLApproach()\\\n",
    "    .setInputCols(\"sentence_embeddings\")\\\n",
    "    .setOutputCol(\"category\")\\\n",
    "    .setLabelColumn(\"labels\")\\\n",
    "    .setBatchSize(128)\\\n",
    "    .setMaxEpochs(10)\\\n",
    "    .setLr(1e-3)\\\n",
    "    .setThreshold(CLASSIFIER_THRESHOLD)\\\n",
    "    .setShufflePerEpoch(False)\\\n",
    "    .setEnableOutputLogs(True)\\\n",
    "    .setValidationSplit(0.1)"
   ]
  },
  {
   "cell_type": "code",
   "execution_count": null,
   "metadata": {},
   "outputs": [],
   "source": [
    "pipeline = Pipeline(\n",
    "    stages = [\n",
    "        document,\n",
    "        sentence_embeddings,\n",
    "        multiClassifier\n",
    "    ])"
   ]
  },
  {
   "cell_type": "code",
   "execution_count": null,
   "metadata": {
    "execution": {
     "iopub.execute_input": "2021-05-24T09:24:29.344021Z",
     "iopub.status.busy": "2021-05-24T09:24:29.343434Z",
     "iopub.status.idle": "2021-05-24T10:05:01.938475Z",
     "shell.execute_reply": "2021-05-24T10:05:01.937066Z",
     "shell.execute_reply.started": "2021-05-24T09:24:29.343975Z"
    }
   },
   "outputs": [],
   "source": [
    "%%time\n",
    "pipelineModel = pipeline.fit(trainDataset)"
   ]
  },
  {
   "cell_type": "code",
   "execution_count": null,
   "metadata": {
    "execution": {
     "iopub.execute_input": "2021-05-24T10:05:01.941105Z",
     "iopub.status.busy": "2021-05-24T10:05:01.940751Z",
     "iopub.status.idle": "2021-05-24T10:05:02.70362Z",
     "shell.execute_reply": "2021-05-24T10:05:02.702549Z",
     "shell.execute_reply.started": "2021-05-24T10:05:01.941062Z"
    }
   },
   "outputs": [],
   "source": [
    "!ls -l ~/annotator_logs/"
   ]
  },
  {
   "cell_type": "code",
   "execution_count": null,
   "metadata": {
    "execution": {
     "iopub.execute_input": "2021-05-24T10:08:53.238007Z",
     "iopub.status.busy": "2021-05-24T10:08:53.237622Z",
     "iopub.status.idle": "2021-05-24T10:08:53.958906Z",
     "shell.execute_reply": "2021-05-24T10:08:53.957696Z",
     "shell.execute_reply.started": "2021-05-24T10:08:53.237977Z"
    }
   },
   "outputs": [],
   "source": [
    "!cat ~/annotator_logs/MultiClassifierDLApproach_da4ee550bf50.log"
   ]
  },
  {
   "cell_type": "code",
   "execution_count": null,
   "metadata": {
    "execution": {
     "iopub.execute_input": "2021-05-24T10:09:02.831241Z",
     "iopub.status.busy": "2021-05-24T10:09:02.830851Z",
     "iopub.status.idle": "2021-05-24T10:09:29.277439Z",
     "shell.execute_reply": "2021-05-24T10:09:29.276594Z",
     "shell.execute_reply.started": "2021-05-24T10:09:02.831202Z"
    }
   },
   "outputs": [],
   "source": [
    "pipelineModel.stages[-1].write().overwrite().save('tmp_multi_classifierDL_model')"
   ]
  },
  {
   "cell_type": "code",
   "execution_count": null,
   "metadata": {
    "execution": {
     "iopub.execute_input": "2021-05-24T10:09:29.278909Z",
     "iopub.status.busy": "2021-05-24T10:09:29.278636Z",
     "iopub.status.idle": "2021-05-24T10:09:30.557163Z",
     "shell.execute_reply": "2021-05-24T10:09:30.555993Z",
     "shell.execute_reply.started": "2021-05-24T10:09:29.278883Z"
    }
   },
   "outputs": [],
   "source": [
    "!zip -r model2.zip /kaggle/working/tmp_multi_classifierDL_model"
   ]
  },
  {
   "cell_type": "code",
   "execution_count": null,
   "metadata": {
    "execution": {
     "iopub.execute_input": "2021-05-24T12:04:47.410041Z",
     "iopub.status.busy": "2021-05-24T12:04:47.409751Z",
     "iopub.status.idle": "2021-05-24T12:05:02.056104Z",
     "shell.execute_reply": "2021-05-24T12:05:02.055003Z",
     "shell.execute_reply.started": "2021-05-24T12:04:47.410002Z"
    }
   },
   "outputs": [],
   "source": [
    "multiClassifier = MultiClassifierDLModel.load(\"../input/ieee-gsc-challenge-2-covid19-bert-model/kaggle/working/tmp_multi_classifierDL_model\") \\\n",
    "  .setInputCols([\"sentence_embeddings\"])\\\n",
    "  .setOutputCol(\"category\")\\\n",
    "  .setThreshold(0.4)\n",
    "\n",
    "pipeline = Pipeline(\n",
    "    stages = [\n",
    "        document,\n",
    "        sentence_embeddings,\n",
    "        multiClassifier\n",
    "    ])"
   ]
  },
  {
   "cell_type": "code",
   "execution_count": null,
   "metadata": {
    "execution": {
     "iopub.execute_input": "2021-05-24T12:05:02.058424Z",
     "iopub.status.busy": "2021-05-24T12:05:02.058039Z",
     "iopub.status.idle": "2021-05-24T12:06:28.613661Z",
     "shell.execute_reply": "2021-05-24T12:06:28.612761Z",
     "shell.execute_reply.started": "2021-05-24T12:05:02.058385Z"
    }
   },
   "outputs": [],
   "source": [
    "preds = pipeline.fit(testDataset).transform(testDataset)\n",
    "preds_df = preds.select('labels', 'category.result').toPandas()"
   ]
  },
  {
   "cell_type": "code",
   "execution_count": null,
   "metadata": {
    "execution": {
     "iopub.execute_input": "2021-05-24T12:06:28.616225Z",
     "iopub.status.busy": "2021-05-24T12:06:28.615828Z",
     "iopub.status.idle": "2021-05-24T12:06:28.623226Z",
     "shell.execute_reply": "2021-05-24T12:06:28.622348Z",
     "shell.execute_reply.started": "2021-05-24T12:06:28.616192Z"
    }
   },
   "outputs": [],
   "source": [
    "mlb = MultiLabelBinarizer()\n",
    "\n",
    "y_true = mlb.fit_transform(preds_df['labels'])\n",
    "y_pred = mlb.transform(preds_df['result'])"
   ]
  },
  {
   "cell_type": "code",
   "execution_count": null,
   "metadata": {
    "execution": {
     "iopub.execute_input": "2021-05-24T12:06:28.625387Z",
     "iopub.status.busy": "2021-05-24T12:06:28.625051Z",
     "iopub.status.idle": "2021-05-24T12:06:28.673293Z",
     "shell.execute_reply": "2021-05-24T12:06:28.672045Z",
     "shell.execute_reply.started": "2021-05-24T12:06:28.625352Z"
    }
   },
   "outputs": [],
   "source": [
    "print(\"Classification report: \\n\", (classification_report(y_true, y_pred)))\n",
    "print(\"F1 micro averaging:\",(f1_score(y_true, y_pred, average='micro')))\n",
    "print(\"F1 macro averaging:\",(f1_score(y_true, y_pred, average='macro')))\n",
    "print(\"ROC: \",(roc_auc_score(y_true, y_pred, average=\"micro\")))"
   ]
  },
  {
   "cell_type": "code",
   "execution_count": null,
   "metadata": {
    "execution": {
     "iopub.execute_input": "2021-05-24T12:06:28.674862Z",
     "iopub.status.busy": "2021-05-24T12:06:28.674559Z",
     "iopub.status.idle": "2021-05-24T12:06:28.808628Z",
     "shell.execute_reply": "2021-05-24T12:06:28.807993Z",
     "shell.execute_reply.started": "2021-05-24T12:06:28.67483Z"
    }
   },
   "outputs": [],
   "source": [
    "submission_df = pd.read_csv(\"/kaggle/input/sentiment-analysis-of-covid-19-related-tweets/validation.csv\")\n",
    "submission_df.columns = [\"id\", \"text\"]\n",
    "submissionDataset = spark.createDataFrame(submission_df)\n",
    "\n",
    "submission_df.head(10)"
   ]
  },
  {
   "cell_type": "code",
   "execution_count": null,
   "metadata": {
    "execution": {
     "iopub.execute_input": "2021-05-24T12:06:28.809944Z",
     "iopub.status.busy": "2021-05-24T12:06:28.809546Z",
     "iopub.status.idle": "2021-05-24T12:13:19.933428Z",
     "shell.execute_reply": "2021-05-24T12:13:19.93244Z",
     "shell.execute_reply.started": "2021-05-24T12:06:28.809913Z"
    }
   },
   "outputs": [],
   "source": [
    "preds = pipeline.fit(submissionDataset).transform(submissionDataset)\n",
    "preds_df = preds.select('id', 'category.result').toPandas()\n",
    "preds_df.to_parquet(\"sparknlp-bert-covid.parquet\", compression=\"gzip\")"
   ]
  },
  {
   "cell_type": "code",
   "execution_count": null,
   "metadata": {
    "execution": {
     "iopub.execute_input": "2021-05-24T12:13:19.934764Z",
     "iopub.status.busy": "2021-05-24T12:13:19.934552Z",
     "iopub.status.idle": "2021-05-24T12:13:19.945259Z",
     "shell.execute_reply": "2021-05-24T12:13:19.944445Z",
     "shell.execute_reply.started": "2021-05-24T12:13:19.934742Z"
    }
   },
   "outputs": [],
   "source": [
    "preds_df.head(10)"
   ]
  },
  {
   "cell_type": "code",
   "execution_count": null,
   "metadata": {
    "execution": {
     "iopub.execute_input": "2021-05-24T12:13:19.946888Z",
     "iopub.status.busy": "2021-05-24T12:13:19.946578Z",
     "iopub.status.idle": "2021-05-24T12:13:19.977673Z",
     "shell.execute_reply": "2021-05-24T12:13:19.97679Z",
     "shell.execute_reply.started": "2021-05-24T12:13:19.946856Z"
    }
   },
   "outputs": [],
   "source": [
    "preds_df[\"Labels\"] = preds_df[\"result\"].apply(lambda x: \" \".join(sorted([str(inv_class_map[idx]) for idx in x])))\n",
    "preds_df.columns = [\"ID\", \"result\", \"Labels\"]\n",
    "preds_df[[\"ID\", \"Labels\"]].to_csv(\"challenge2-sparkml-bert_covid19_large_uncased-3.csv\", index=None)"
   ]
  },
  {
   "cell_type": "code",
   "execution_count": null,
   "metadata": {},
   "outputs": [],
   "source": []
  }
 ],
 "metadata": {
  "kernelspec": {
   "display_name": "Python 3 (ipykernel)",
   "language": "python",
   "name": "python3"
  },
  "language_info": {
   "codemirror_mode": {
    "name": "ipython",
    "version": 3
   },
   "file_extension": ".py",
   "mimetype": "text/x-python",
   "name": "python",
   "nbconvert_exporter": "python",
   "pygments_lexer": "ipython3",
   "version": "3.10.5"
  }
 },
 "nbformat": 4,
 "nbformat_minor": 4
}
