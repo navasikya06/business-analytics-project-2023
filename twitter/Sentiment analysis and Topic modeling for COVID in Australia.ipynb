{
 "cells": [
  {
   "cell_type": "markdown",
   "id": "bb9f00de",
   "metadata": {},
   "source": [
    "Long Covid - New variant\n",
    "\n",
    "Correlate with number of cases or stringency index"
   ]
  },
  {
   "cell_type": "markdown",
   "id": "3c046350",
   "metadata": {},
   "source": [
    "API Key and secret\n",
    "\n",
    "5FlPkFBizkmYtyvfql31ie6Ol\n",
    "\n",
    "E0yhor3Fvy8IRlR8iPRIzU6gQx6tS0fjyhN2jji1JTlDxMVAnZ\n",
    "\n",
    "Access token and secret\n",
    "\n",
    "1696734777490173952-CUKOCkUSIC9HG9yIdrSbqF07woehAi\n",
    "\n",
    "sxpItHpZuHHQO7rug06mOgeV5RX52QoDrknIrlVxFhIdi\n",
    "\n",
    "Bearer token\n",
    "\n",
    "AAAAAAAAAAAAAAAAAAAAAAVIpwEAAAAAF0iNJBNl6SnNYy6PYsGbTDh4jKs%3DCuBDK7UwJpnKU1u4EWeX8z6bfKX5S08l886iQm9kZRlFeuiRm2"
   ]
  },
  {
   "cell_type": "code",
   "execution_count": 4,
   "id": "41c19763",
   "metadata": {},
   "outputs": [],
   "source": [
    "import tweepy"
   ]
  },
  {
   "cell_type": "code",
   "execution_count": 5,
   "id": "aa67b1e5",
   "metadata": {},
   "outputs": [
    {
     "name": "stdout",
     "output_type": "stream",
     "text": [
      "HaThanhChu96723\n"
     ]
    }
   ],
   "source": [
    "consumer_key = \"5FlPkFBizkmYtyvfql31ie6Ol\"\n",
    "consumer_secret = \"E0yhor3Fvy8IRlR8iPRIzU6gQx6tS0fjyhN2jji1JTlDxMVAnZ\"\n",
    "\n",
    "access_token = \"1696734777490173952-CUKOCkUSIC9HG9yIdrSbqF07woehAi\"\n",
    "access_token_secret = \"sxpItHpZuHHQO7rug06mOgeV5RX52QoDrknIrlVxFhIdi\"\n",
    "\n",
    "auth = tweepy.OAuth1UserHandler(\n",
    "    consumer_key, consumer_secret, access_token, access_token_secret\n",
    ")\n",
    "\n",
    "api = tweepy.API(auth)\n",
    "\n",
    "# If the authentication was successful, this should print the\n",
    "# screen name / username of the account\n",
    "print(api.verify_credentials().screen_name)\n"
   ]
  },
  {
   "cell_type": "code",
   "execution_count": 9,
   "id": "05cda79c",
   "metadata": {},
   "outputs": [
    {
     "ename": "SyntaxError",
     "evalue": "iterable argument unpacking follows keyword argument unpacking (1389652052.py, line 1)",
     "output_type": "error",
     "traceback": [
      "\u001b[1;36m  Input \u001b[1;32mIn [9]\u001b[1;36m\u001b[0m\n\u001b[1;33m    search_recent_tweets('', *, end_time=None, expansions=None, max_results=10,\u001b[0m\n\u001b[1;37m                         ^\u001b[0m\n\u001b[1;31mSyntaxError\u001b[0m\u001b[1;31m:\u001b[0m iterable argument unpacking follows keyword argument unpacking\n"
     ]
    }
   ],
   "source": [
    "search_recent_tweets(query = \"twitter data\" has:mentions (has:media OR has:links), *, end_time=None, expansions=None, max_results=10, \n",
    "                                   media_fields=None, next_token=None, place_fields=None, poll_fields=None, \n",
    "                                   since_id=None, sort_order=None, start_time=None, tweet_fields=None, \n",
    "                                   until_id=None, user_fields=None)"
   ]
  },
  {
   "cell_type": "code",
   "execution_count": null,
   "id": "66d9931d",
   "metadata": {},
   "outputs": [],
   "source": [
    "import pandas as pd\n",
    "\n",
    "dataframe=pd.read_csv(\"corona_tweets_10.csv\", header=None)\n",
    "\n",
    "dataframe=dataframe[0]\n",
    "\n",
    "dataframe.to_csv(\"ready_corona_tweets_10.csv\", index=False, header=None)"
   ]
  },
  {
   "cell_type": "markdown",
   "id": "5f7ecf9a",
   "metadata": {},
   "source": [
    "https://ieee-dataport.org/open-access/coronavirus-covid-19-tweets-dataset\n",
    "\n",
    "#corona, coronavirus, #coronavirus, covid, #covid, covid19, #covid19, covid-19, #covid-19, sarscov2, #sarscov2, sars cov2, sars cov 2, covid_19, #covid_19, #ncov, ncov, #ncov2019, ncov2019, 2019-ncov, #2019-ncov, pandemic, #pandemic #2019ncov, 2019ncov, quarantine, #quarantine, flatten the curve, flattening the curve, #flatteningthecurve, #flattenthecurve, hand sanitizer, #handsanitizer, #lockdown, lockdown, social distancing, #socialdistancing, work from home, #workfromhome, working from home, #workingfromhome, ppe, n95, #ppe, #n95, #covidiots, covidiots, herd immunity, #herdimmunity, pneumonia, #pneumonia, chinese virus, #chinesevirus, wuhan virus, #wuhanvirus, kung flu, #kungflu, wearamask, #wearamask, wear a mask, vaccine, vaccines, #vaccine, #vaccines, corona vaccine, corona vaccines, #coronavaccine, #coronavaccines, face shield, #faceshield, face shields, #faceshields, health worker, #healthworker, health workers, #healthworkers, #stayhomestaysafe, #coronaupdate, #frontlineheroes, #coronawarriors, #homeschool, #homeschooling, #hometasking, #masks4all, #wfh, wash ur hands, wash your hands, #washurhands, #washyourhands, #stayathome, #stayhome, #selfisolating, self isolating "
   ]
  },
  {
   "cell_type": "code",
   "execution_count": null,
   "id": "0fd2b8b2",
   "metadata": {},
   "outputs": [],
   "source": [
    "$ twarc configure\n",
    "\n",
    "from twarc import Twarc\n",
    "\n",
    "consumer_key=\"\"\n",
    "consumer_secret=\"\"\n",
    "access_token=\"\"\n",
    "access_token_secret=\"\"\n",
    "\n",
    "t = Twarc(consumer_key, consumer_secret, access_token, access_token_secret)\n",
    "\n",
    "for tweet in t.hydrate(open('tweet_ids.csv')):\n",
    "    \n",
    "    print(tweet['text'])\n",
    "    print(tweet['id'])\n",
    "    \n",
    "    if tweet['place']:\n",
    "        print(tweet['place']['country'])\n",
    "        \n"
   ]
  },
  {
   "cell_type": "markdown",
   "id": "e7db15d3",
   "metadata": {},
   "source": [
    "https://github.com/thepanacealab/covid19_twitter/tree/master\n",
    "\n",
    "https://www.ncbi.nlm.nih.gov/pmc/articles/PMC7362951/\n",
    "\n",
    "Crisis Transformer\n",
    "\n",
    "Hydrate - can't do\n",
    "Process\n",
    "\n",
    "- Visualize sentiment based on data available, looking at articles\n",
    "- Predict case\n",
    "- How a social media monitoring dashboard would look like for COVID\n",
    "- How it would look like for a crisis management\n",
    "\n",
    "Ask chatgpt, find previous code to copy"
   ]
  }
 ],
 "metadata": {
  "kernelspec": {
   "display_name": "Python 3 (ipykernel)",
   "language": "python",
   "name": "python3"
  },
  "language_info": {
   "codemirror_mode": {
    "name": "ipython",
    "version": 3
   },
   "file_extension": ".py",
   "mimetype": "text/x-python",
   "name": "python",
   "nbconvert_exporter": "python",
   "pygments_lexer": "ipython3",
   "version": "3.10.5"
  }
 },
 "nbformat": 4,
 "nbformat_minor": 5
}
