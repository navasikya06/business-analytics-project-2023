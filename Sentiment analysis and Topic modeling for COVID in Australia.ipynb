{
 "cells": [
  {
   "cell_type": "markdown",
   "id": "bb9f00de",
   "metadata": {},
   "source": [
    "Long Covid - New variant\n",
    "\n",
    "Correlate with number of cases or stringency index"
   ]
  },
  {
   "cell_type": "code",
   "execution_count": null,
   "id": "e7dbbec0",
   "metadata": {},
   "outputs": [],
   "source": []
  }
 ],
 "metadata": {
  "kernelspec": {
   "display_name": "Python 3 (ipykernel)",
   "language": "python",
   "name": "python3"
  },
  "language_info": {
   "codemirror_mode": {
    "name": "ipython",
    "version": 3
   },
   "file_extension": ".py",
   "mimetype": "text/x-python",
   "name": "python",
   "nbconvert_exporter": "python",
   "pygments_lexer": "ipython3",
   "version": "3.10.5"
  }
 },
 "nbformat": 4,
 "nbformat_minor": 5
}
